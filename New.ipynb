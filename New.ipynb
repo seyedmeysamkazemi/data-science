{
 "cells": [
  {
   "cell_type": "markdown",
   "metadata": {},
   "source": [
    "# Task No. 3: Data Analysis"
   ]
  },
  {
   "cell_type": "markdown",
   "metadata": {},
   "source": [
    "### import libraries"
   ]
  },
  {
   "cell_type": "code",
   "execution_count": 50,
   "metadata": {},
   "outputs": [],
   "source": [
    "import numpy as np\n",
    "import pandas as pd\n",
    "import matplotlib.pyplot as plt\n"
   ]
  },
  {
   "cell_type": "markdown",
   "metadata": {},
   "source": [
    "#### import the data"
   ]
  },
  {
   "cell_type": "code",
   "execution_count": 51,
   "metadata": {},
   "outputs": [
    {
     "data": {
      "text/html": [
       "<div>\n",
       "<style scoped>\n",
       "    .dataframe tbody tr th:only-of-type {\n",
       "        vertical-align: middle;\n",
       "    }\n",
       "\n",
       "    .dataframe tbody tr th {\n",
       "        vertical-align: top;\n",
       "    }\n",
       "\n",
       "    .dataframe thead th {\n",
       "        text-align: right;\n",
       "    }\n",
       "</style>\n",
       "<table border=\"1\" class=\"dataframe\">\n",
       "  <thead>\n",
       "    <tr style=\"text-align: right;\">\n",
       "      <th></th>\n",
       "      <th>Unnamed: 0</th>\n",
       "      <th>tag_name</th>\n",
       "      <th>followed_by</th>\n",
       "      <th>comment</th>\n",
       "      <th>tag_count</th>\n",
       "      <th>like</th>\n",
       "    </tr>\n",
       "  </thead>\n",
       "  <tbody>\n",
       "    <tr>\n",
       "      <th>0</th>\n",
       "      <td>0</td>\n",
       "      <td>2021</td>\n",
       "      <td>774304</td>\n",
       "      <td>626</td>\n",
       "      <td>0</td>\n",
       "      <td>50311</td>\n",
       "    </tr>\n",
       "    <tr>\n",
       "      <th>1</th>\n",
       "      <td>1</td>\n",
       "      <td>2021</td>\n",
       "      <td>68438</td>\n",
       "      <td>7</td>\n",
       "      <td>11</td>\n",
       "      <td>1957</td>\n",
       "    </tr>\n",
       "    <tr>\n",
       "      <th>2</th>\n",
       "      <td>2</td>\n",
       "      <td>2021</td>\n",
       "      <td>3122</td>\n",
       "      <td>102</td>\n",
       "      <td>23</td>\n",
       "      <td>595</td>\n",
       "    </tr>\n",
       "    <tr>\n",
       "      <th>3</th>\n",
       "      <td>3</td>\n",
       "      <td>2021</td>\n",
       "      <td>250500</td>\n",
       "      <td>123573</td>\n",
       "      <td>5</td>\n",
       "      <td>8290</td>\n",
       "    </tr>\n",
       "    <tr>\n",
       "      <th>4</th>\n",
       "      <td>4</td>\n",
       "      <td>2021</td>\n",
       "      <td>3578</td>\n",
       "      <td>26</td>\n",
       "      <td>4</td>\n",
       "      <td>365</td>\n",
       "    </tr>\n",
       "    <tr>\n",
       "      <th>...</th>\n",
       "      <td>...</td>\n",
       "      <td>...</td>\n",
       "      <td>...</td>\n",
       "      <td>...</td>\n",
       "      <td>...</td>\n",
       "      <td>...</td>\n",
       "    </tr>\n",
       "    <tr>\n",
       "      <th>2165</th>\n",
       "      <td>2165</td>\n",
       "      <td>world</td>\n",
       "      <td>2002</td>\n",
       "      <td>28</td>\n",
       "      <td>15</td>\n",
       "      <td>74</td>\n",
       "    </tr>\n",
       "    <tr>\n",
       "      <th>2166</th>\n",
       "      <td>2166</td>\n",
       "      <td>world</td>\n",
       "      <td>72</td>\n",
       "      <td>0</td>\n",
       "      <td>8</td>\n",
       "      <td>7</td>\n",
       "    </tr>\n",
       "    <tr>\n",
       "      <th>2167</th>\n",
       "      <td>2167</td>\n",
       "      <td>world</td>\n",
       "      <td>1386</td>\n",
       "      <td>0</td>\n",
       "      <td>19</td>\n",
       "      <td>4</td>\n",
       "    </tr>\n",
       "    <tr>\n",
       "      <th>2168</th>\n",
       "      <td>2168</td>\n",
       "      <td>world</td>\n",
       "      <td>450271</td>\n",
       "      <td>260</td>\n",
       "      <td>19</td>\n",
       "      <td>8371</td>\n",
       "    </tr>\n",
       "    <tr>\n",
       "      <th>2169</th>\n",
       "      <td>2169</td>\n",
       "      <td>world</td>\n",
       "      <td>42</td>\n",
       "      <td>0</td>\n",
       "      <td>29</td>\n",
       "      <td>17</td>\n",
       "    </tr>\n",
       "  </tbody>\n",
       "</table>\n",
       "<p>2170 rows × 6 columns</p>\n",
       "</div>"
      ],
      "text/plain": [
       "      Unnamed: 0 tag_name  followed_by  comment  tag_count   like\n",
       "0              0     2021       774304      626          0  50311\n",
       "1              1     2021        68438        7         11   1957\n",
       "2              2     2021         3122      102         23    595\n",
       "3              3     2021       250500   123573          5   8290\n",
       "4              4     2021         3578       26          4    365\n",
       "...          ...      ...          ...      ...        ...    ...\n",
       "2165        2165    world         2002       28         15     74\n",
       "2166        2166    world           72        0          8      7\n",
       "2167        2167    world         1386        0         19      4\n",
       "2168        2168    world       450271      260         19   8371\n",
       "2169        2169    world           42        0         29     17\n",
       "\n",
       "[2170 rows x 6 columns]"
      ]
     },
     "execution_count": 51,
     "metadata": {},
     "output_type": "execute_result"
    }
   ],
   "source": [
    "data = pd.read_csv(\"posts.csv\")\n",
    "data"
   ]
  },
  {
   "cell_type": "markdown",
   "metadata": {},
   "source": [
    "#### سطر هایی از دیتا که مقادیر خالی دارند و فالور هایشان 0 است را حذف میکنیم"
   ]
  },
  {
   "cell_type": "code",
   "execution_count": 52,
   "metadata": {},
   "outputs": [
    {
     "name": "stdout",
     "output_type": "stream",
     "text": [
      "data.shape:  (2165, 6)\n",
      "data.columns:  Index(['Unnamed: 0', 'tag_name', 'followed_by', 'comment', 'tag_count',\n",
      "       'like'],\n",
      "      dtype='object')\n"
     ]
    }
   ],
   "source": [
    "data.dropna()\n",
    "data = data[data.followed_by != 0]\n",
    "print(\"data.shape: \",data.shape)\n",
    "print(\"data.columns: \",data.columns)"
   ]
  },
  {
   "cell_type": "markdown",
   "metadata": {},
   "source": [
    "###### ER = engagement_rate = engagements/followers\n",
    "###### با توجه به دیتا، تعامل پست را جمع لایک و کامنت در نظر میگیریم"
   ]
  },
  {
   "cell_type": "code",
   "execution_count": 53,
   "metadata": {},
   "outputs": [
    {
     "name": "stdout",
     "output_type": "stream",
     "text": [
      "[0.06578424 0.02869751 0.22325432 ... 0.002886   0.01916846 0.4047619 ]\n"
     ]
    }
   ],
   "source": [
    "like =np.asanyarray( data.like)\n",
    "comment = np.asanyarray(data.comment)\n",
    "follower = np.asanyarray(data.followed_by)\n",
    "tag_count = np.asanyarray(data.tag_count)\n",
    "\n",
    "ER = (like + comment) / follower\n",
    "print(ER)"
   ]
  },
  {
   "cell_type": "markdown",
   "metadata": {},
   "source": [
    "##### Micro-influencer : less than 15,000 followers\n",
    "##### Regular-influencer : between 15,000 and 50,000 followers\n",
    "##### Rising-influencer : between 50,000 and 100,000 followers\n",
    "##### Mid-influencer : between 100,000 and 500,000 followers\n",
    "##### Macro-influencer : between 500,000 and 1,000,000 followers\n",
    "##### Mega-influencer : more than 1,000,000 followers"
   ]
  },
  {
   "cell_type": "code",
   "execution_count": 54,
   "metadata": {},
   "outputs": [],
   "source": [
    "micro_filter = follower <= 15000\n",
    "regular_filter = np.array(list(map(lambda q: 15000 < q <= 50000,follower)))\n",
    "rising_filter = np.array(list(map(lambda q: 50000 < q <= 100000,follower)))\n",
    "mid_filter = np.array(list(map(lambda q: 100000 < q <= 500000,follower)))\n",
    "macro_filter = np.array(list(map(lambda q: 500000 < q <= 1000000,follower)))\n",
    "mega_filter = 1000000 < follower"
   ]
  },
  {
   "cell_type": "code",
   "execution_count": 55,
   "metadata": {},
   "outputs": [
    {
     "name": "stdout",
     "output_type": "stream",
     "text": [
      "(2165,)\n",
      "[False False  True ...  True False  True]\n"
     ]
    }
   ],
   "source": [
    "print(micro_filter.shape)\n",
    "print(micro_filter)"
   ]
  },
  {
   "cell_type": "code",
   "execution_count": 56,
   "metadata": {},
   "outputs": [],
   "source": [
    "influencers = np.zeros((len(data) , 5))\n",
    "influencers[:,0] = follower\n",
    "influencers[:,1] = comment\n",
    "influencers[:,2] = tag_count\n",
    "influencers[:,3] = like\n",
    "influencers[:,4] = ER"
   ]
  },
  {
   "cell_type": "code",
   "execution_count": 57,
   "metadata": {},
   "outputs": [],
   "source": [
    "micro_influencer = np.zeros((micro_filter.sum() , 5))   #micro_filter.sum()  : count of \"True\"s\n",
    "micro_influencer = influencers[micro_filter]\n",
    "\n",
    "regular_influencer = np.zeros((regular_filter.sum() , 5))\n",
    "regular_influencer = influencers[regular_filter]\n",
    "\n",
    "rising_influencer = np.zeros((rising_filter.sum() , 5))\n",
    "rising_influencer = influencers[rising_filter]\n",
    "\n",
    "mid_influencer = np.zeros((mid_filter.sum() , 5))\n",
    "mid_influencer = influencers[mid_filter]\n",
    "\n",
    "macro_influencer = np.zeros((macro_filter.sum() , 5))\n",
    "macro_influencer = influencers[macro_filter]\n",
    "\n",
    "mega_influencer = np.zeros((mega_filter.sum() , 5))\n",
    "mega_influencer = influencers[mega_filter]"
   ]
  },
  {
   "cell_type": "code",
   "execution_count": 58,
   "metadata": {},
   "outputs": [],
   "source": [
    "# Delete extra variables\n",
    "del micro_filter\n",
    "del regular_filter\n",
    "del rising_filter\n",
    "del mid_filter\n",
    "del macro_filter\n",
    "del mega_filter"
   ]
  },
  {
   "cell_type": "code",
   "execution_count": 59,
   "metadata": {},
   "outputs": [
    {
     "name": "stdout",
     "output_type": "stream",
     "text": [
      "(1549, 5)\n",
      "(191, 5)\n",
      "(118, 5)\n",
      "(73, 5)\n",
      "(24, 5)\n"
     ]
    }
   ],
   "source": [
    "print(micro_influencer.shape)\n",
    "print(regular_influencer.shape)\n",
    "print(rising_influencer.shape)\n",
    "print(macro_influencer.shape)\n",
    "print(mega_influencer.shape)"
   ]
  },
  {
   "cell_type": "markdown",
   "metadata": {},
   "source": [
    "#### :رسم نمودار\n",
    "### log(ER)_log(follower)"
   ]
  },
  {
   "cell_type": "code",
   "execution_count": 60,
   "metadata": {},
   "outputs": [
    {
     "name": "stderr",
     "output_type": "stream",
     "text": [
      "<ipython-input-60-223c2fa2a71f>:2: RuntimeWarning: divide by zero encountered in log10\n",
      "  y = np.log10(ER)\n"
     ]
    },
    {
     "data": {
      "image/png": "[encoded data removed]",
      "text/plain": [
       "<Figure size 432x288 with 1 Axes>"
      ]
     },
     "metadata": {
      "needs_background": "light"
     },
     "output_type": "display_data"
    }
   ],
   "source": [
    "x = np.log10(influencers[:,0])   # influencers[:,0] ===> followers\n",
    "y = np.log10(ER)\n",
    "\n",
    "plt.scatter(x , y)\n",
    "plt.xlabel(\"folower(log)\")\n",
    "plt.ylabel(\"ER(log)\")\n",
    "plt.show()"
   ]
  },
  {
   "cell_type": "markdown",
   "metadata": {},
   "source": [
    "#### نمودار:\n",
    "#### Average engagement rate for posts containing hashtags vs posts containing no hashtag"
   ]
  },
  {
   "cell_type": "code",
   "execution_count": 61,
   "metadata": {},
   "outputs": [
    {
     "name": "stdout",
     "output_type": "stream",
     "text": [
      "(1952,)\n",
      "(213,)\n"
     ]
    }
   ],
   "source": [
    "without_tag_filter = influencers[:,2] == 0   #influencers[:,2] ===> tag_count\n",
    "ER_without_tag = ER[without_tag_filter]\n",
    "ER_with_tag = ER[~without_tag_filter]\n",
    "\n",
    "print(ER_with_tag.shape)\n",
    "print(ER_without_tag.shape)"
   ]
  },
  {
   "cell_type": "code",
   "execution_count": 62,
   "metadata": {},
   "outputs": [],
   "source": [
    "micro_without_tag_filter = micro_influencer[:,2] == 0   #micro_influencer[:,2] ===> tag_count\n",
    "micro_without_tag = micro_influencer[micro_without_tag_filter]\n",
    "micro_with_tag = micro_influencer[~micro_without_tag_filter]\n",
    "\n",
    "regular_without_tag_filter = regular_influencer[:,2] == 0   #regular_influencer[:,2] ===> tag_count\n",
    "regular_without_tag = regular_influencer[regular_without_tag_filter]\n",
    "regular_with_tag = regular_influencer[~regular_without_tag_filter]\n",
    "\n",
    "rising_without_tag_filter = rising_influencer[:,2] == 0   #rising_influencer[:,2] ===> tag_count\n",
    "rising_without_tag = rising_influencer[rising_without_tag_filter]\n",
    "rising_with_tag = rising_influencer[~rising_without_tag_filter]\n",
    "\n",
    "mid_without_tag_filter = mid_influencer[:,2] == 0   #mid_influencer[:,2] ===> tag_count\n",
    "mid_without_tag = mid_influencer[mid_without_tag_filter]\n",
    "mid_with_tag = mid_influencer[~mid_without_tag_filter]\n",
    "\n",
    "macro_without_tag_filter = macro_influencer[:,2] == 0   #macro_influencer[:,2] ===> tag_count\n",
    "macro_without_tag = macro_influencer[macro_without_tag_filter]\n",
    "macro_with_tag = macro_influencer[~macro_without_tag_filter]\n",
    "\n",
    "mega_without_tag_filter = mega_influencer[:,2] == 0   #mega_influencer[:,2] ===> tag_count\n",
    "mega_without_tag = mega_influencer[mega_without_tag_filter]\n",
    "mega_with_tag = mega_influencer[~mega_without_tag_filter]\n"
   ]
  },
  {
   "cell_type": "code",
   "execution_count": 63,
   "metadata": {},
   "outputs": [],
   "source": [
    "# Delete extra variables\n",
    "del micro_without_tag_filter\n",
    "del regular_without_tag_filter\n",
    "del rising_without_tag_filter\n",
    "del mid_without_tag_filter\n",
    "del macro_without_tag_filter\n",
    "del mega_without_tag_filter"
   ]
  },
  {
   "cell_type": "code",
   "execution_count": 64,
   "metadata": {},
   "outputs": [
    {
     "name": "stdout",
     "output_type": "stream",
     "text": [
      "with_tag:  [0.1825083  0.05779424 0.05456328 0.03457841 0.01765999 0.01013483]\n",
      "without_tag:  [0.13377462 0.10925327 0.06818584 0.03660096 0.02482589 0.01184548]\n"
     ]
    }
   ],
   "source": [
    "\n",
    "#Calculate the ER average(with tags vs without tags)\n",
    "with_tag = np.zeros((6,))   #creat the matrix\n",
    "without_tag = np.zeros((6,))\n",
    "with_tag[0] = micro_with_tag[:,4].mean()   #micro_with_tag[:,4] ===> ER\n",
    "without_tag[0] = micro_without_tag[:,4].mean()\n",
    "with_tag[1] = regular_with_tag[:,4].mean()\n",
    "without_tag[1] = regular_without_tag[:,4].mean()\n",
    "with_tag[2] = rising_with_tag[:,4].mean()\n",
    "without_tag[2] = rising_without_tag[:,4].mean()\n",
    "with_tag[3] = mid_with_tag[:,4].mean()\n",
    "without_tag[3] = mid_without_tag[:,4].mean()\n",
    "with_tag[4] = macro_with_tag[:,4].mean()\n",
    "without_tag[4] = macro_without_tag[:,4].mean()\n",
    "with_tag[5] = mega_with_tag[:,4].mean()\n",
    "without_tag[5] = mega_without_tag[:,4].mean()\n",
    "\n",
    "print(\"with_tag: \",with_tag)\n",
    "print(\"without_tag: \",without_tag)"
   ]
  },
  {
   "cell_type": "code",
   "execution_count": 65,
   "metadata": {},
   "outputs": [
    {
     "data": {
      "text/plain": [
       "([<matplotlib.axis.XTick at 0x19fffed1580>,\n",
       "  <matplotlib.axis.XTick at 0x19fffed1550>,\n",
       "  <matplotlib.axis.XTick at 0x19fffeda190>,\n",
       "  <matplotlib.axis.XTick at 0x19ffff1e970>,\n",
       "  <matplotlib.axis.XTick at 0x19ffff1ee80>,\n",
       "  <matplotlib.axis.XTick at 0x19ffff263d0>],\n",
       " [Text(0, 0, 'micro'),\n",
       "  Text(1, 0, 'ragular'),\n",
       "  Text(2, 0, 'rising'),\n",
       "  Text(3, 0, 'mid'),\n",
       "  Text(4, 0, 'macro'),\n",
       "  Text(5, 0, 'mega')])"
      ]
     },
     "execution_count": 65,
     "metadata": {},
     "output_type": "execute_result"
    },
    {
     "data": {
      "image/png": "[encoded data removed]",
      "text/plain": [
       "<Figure size 432x288 with 1 Axes>"
      ]
     },
     "metadata": {
      "needs_background": "light"
     },
     "output_type": "display_data"
    }
   ],
   "source": [
    "labels = np.array([\"micro\" , \"ragular\" , \"rising\" , \"mid\" , \"macro\" , \"mega\"])\n",
    "x = np.arange(len(labels))\n",
    "width = 0.35  # the width of the bars\n",
    "\n",
    "plt.bar(x-width/2 , with_tag , width=width  , label=\"with tags\")\n",
    "plt.bar(x+width/2 , without_tag , width=width , label=\"without tags\")\n",
    "plt.legend()\n",
    "plt.xticks(x,labels)"
   ]
  },
  {
   "cell_type": "code",
   "execution_count": null,
   "metadata": {},
   "outputs": [],
   "source": []
  },
  {
   "cell_type": "code",
   "execution_count": 70,
   "metadata": {},
   "outputs": [
    {
     "data": {
      "text/plain": [
       "array(['2021', 'Afghanistan', 'Albania', 'Algeria', 'Angola', 'Argentina',\n",
       "       'Australia', 'Austria', 'Belgium', 'Brazil', 'Cameroon', 'Chile',\n",
       "       'Computer', 'Ecuador', 'Egypt', 'Greece', 'Iraq', 'Israel',\n",
       "       'Mexico', 'Morocco', 'NBA', 'Netherlands', 'New_Zealand', 'Oman',\n",
       "       'Pakistan', 'Philippines', 'Poland', 'Portugal', 'Qatar',\n",
       "       'Romania', 'Senegal', 'Serbia', 'Spain', 'Thailand', 'Turkey',\n",
       "       'USA', 'Ukraine', 'Uzbekistan', 'amazon', 'animal', 'arab',\n",
       "       'artwork', 'asia', 'bitcoin', 'blockchain', 'buy', 'canada', 'cat',\n",
       "       'ceo', 'chef', 'chigago', 'china', 'club', 'collection',\n",
       "       'dairyfree', 'dog', 'europe', 'films', 'fish', 'florida', 'food',\n",
       "       'football', 'forex', 'forexlife', 'game', 'germany', 'girl',\n",
       "       'girls', 'god', 'goldenretriever', 'gym', 'hard', 'home', 'house',\n",
       "       'iran', 'japan', 'jumper', 'lazday', 'london', 'love', 'mensstyle',\n",
       "       'messi', 'minesota', 'movie', 'newyear', 'newyork', 'pasta',\n",
       "       'perfumes', 'photography', 'play', 'programing', 'puppy', 'qoute',\n",
       "       'recipes', 'ronaldo', 'sale', 'sea', 'see', 'sell', 'seo', 'sky',\n",
       "       'snake', 'snow', 'soft', 'sport', 'stock', 'summer', 'swim',\n",
       "       'tattooart', 'travel', 'trump', 'university', 'water', 'wolf',\n",
       "       'women', 'word', 'workathome', 'workonline', 'world'], dtype=object)"
      ]
     },
     "execution_count": 70,
     "metadata": {},
     "output_type": "execute_result"
    }
   ],
   "source": [
    "tag_name = np.asanyarray(data.tag_name)\n",
    "tag_name_list = np.unique(tag_name)\n",
    "ER_tag_names = np.zeros((len(tag_name_list),))\n",
    "for i in range(len(tag_name_list)):\n",
    "    ER_tag_names[i] = np.median(ER[tag_name == tag_name_list[i]])\n",
    "  "
   ]
  },
  {
   "cell_type": "code",
   "execution_count": 95,
   "metadata": {},
   "outputs": [
    {
     "data": {
      "text/plain": [
       "array([array(['sky'], dtype=object), array(['see'], dtype=object),\n",
       "       array(['Poland'], dtype=object), array(['Israel'], dtype=object),\n",
       "       array(['germany'], dtype=object), array(['sea'], dtype=object),\n",
       "       array(['Romania'], dtype=object), array(['water'], dtype=object),\n",
       "       array(['Serbia'], dtype=object), array(['Ukraine'], dtype=object),\n",
       "       array(['goldenretriever'], dtype=object),\n",
       "       array(['Greece'], dtype=object), array(['Mexico'], dtype=object),\n",
       "       array(['puppy'], dtype=object), array(['soft'], dtype=object),\n",
       "       array(['Oman'], dtype=object), array(['Albania'], dtype=object),\n",
       "       array(['fish'], dtype=object), array(['iran'], dtype=object),\n",
       "       array(['snow'], dtype=object),\n",
       "       array(['New_Zealand'], dtype=object),\n",
       "       array(['Chile'], dtype=object), array(['newyear'], dtype=object),\n",
       "       array(['love'], dtype=object), array(['club'], dtype=object),\n",
       "       array(['Argentina'], dtype=object),\n",
       "       array(['Austria'], dtype=object), array(['europe'], dtype=object),\n",
       "       array(['japan'], dtype=object), array(['asia'], dtype=object),\n",
       "       array(['Brazil'], dtype=object), array(['Portugal'], dtype=object),\n",
       "       array(['Morocco'], dtype=object),\n",
       "       array(['Thailand'], dtype=object), array(['london'], dtype=object),\n",
       "       array(['2021'], dtype=object), array(['Australia'], dtype=object),\n",
       "       array(['Ecuador'], dtype=object),\n",
       "       array(['Cameroon'], dtype=object), array(['Spain'], dtype=object),\n",
       "       array(['university'], dtype=object),\n",
       "       array(['china'], dtype=object), array(['sport'], dtype=object),\n",
       "       array(['artwork'], dtype=object),\n",
       "       array(['Philippines'], dtype=object),\n",
       "       array(['girls'], dtype=object), array(['wolf'], dtype=object),\n",
       "       array(['house'], dtype=object), array(['Iraq'], dtype=object),\n",
       "       array(['photography'], dtype=object),\n",
       "       array(['chigago'], dtype=object),\n",
       "       array(['minesota'], dtype=object), array(['stock'], dtype=object),\n",
       "       array(['collection'], dtype=object), array(['hard'], dtype=object),\n",
       "       array(['girl'], dtype=object), array(['newyork'], dtype=object),\n",
       "       array(['Belgium'], dtype=object),\n",
       "       array(['workathome'], dtype=object),\n",
       "       array(['summer'], dtype=object), array(['Egypt'], dtype=object),\n",
       "       array(['movie'], dtype=object), array(['game'], dtype=object),\n",
       "       array(['USA'], dtype=object), array(['swim'], dtype=object),\n",
       "       array(['qoute'], dtype=object), array(['lazday'], dtype=object),\n",
       "       array(['god'], dtype=object), array(['buy'], dtype=object),\n",
       "       array(['Qatar'], dtype=object), array(['seo'], dtype=object),\n",
       "       array(['snake'], dtype=object),\n",
       "       array(['workonline'], dtype=object),\n",
       "       array(['canada'], dtype=object), array(['sell'], dtype=object),\n",
       "       array(['films'], dtype=object), array(['world'], dtype=object),\n",
       "       array(['Netherlands'], dtype=object),\n",
       "       array(['florida'], dtype=object), array(['women'], dtype=object),\n",
       "       array(['forex'], dtype=object), array(['home'], dtype=object),\n",
       "       array(['ronaldo'], dtype=object), array(['jumper'], dtype=object),\n",
       "       array(['chef'], dtype=object), array(['cat'], dtype=object),\n",
       "       array(['tattooart'], dtype=object), array(['play'], dtype=object),\n",
       "       array(['dog'], dtype=object), array(['dairyfree'], dtype=object),\n",
       "       array(['Uzbekistan'], dtype=object),\n",
       "       array(['programing'], dtype=object), array(['NBA'], dtype=object),\n",
       "       array(['trump'], dtype=object), array(['amazon'], dtype=object),\n",
       "       array(['food'], dtype=object), array(['perfumes'], dtype=object),\n",
       "       array(['football'], dtype=object), array(['animal'], dtype=object),\n",
       "       array(['word'], dtype=object), array(['mensstyle'], dtype=object),\n",
       "       array(['Angola'], dtype=object), array(['pasta'], dtype=object),\n",
       "       array(['ceo'], dtype=object), array(['messi'], dtype=object),\n",
       "       array(['Computer'], dtype=object),\n",
       "       array(['Senegal'], dtype=object), array(['Turkey'], dtype=object),\n",
       "       array(['arab'], dtype=object),\n",
       "       array(['Afghanistan'], dtype=object),\n",
       "       array(['forexlife'], dtype=object),\n",
       "       array(['bitcoin'], dtype=object), array(['gym'], dtype=object),\n",
       "       array(['sale'], dtype=object), array(['travel'], dtype=object),\n",
       "       array(['blockchain'], dtype=object),\n",
       "       array(['Algeria'], dtype=object), array(['recipes'], dtype=object),\n",
       "       array(['Pakistan'], dtype=object)], dtype=object)"
      ]
     },
     "execution_count": 95,
     "metadata": {},
     "output_type": "execute_result"
    }
   ],
   "source": [
    "# Sort hashtags based on medin ER\n",
    "sorted_ER = np.zeros((len(ER_tag_names),))\n",
    "sorted_tags = np.empty(len(tag_name_list) ,dtype='O')\n",
    "sorted_ER = np.sort(ER_tag_names)\n",
    "sorted_ER = sorted_ER[::-1]  #از بزگتر به کوچکتر\n",
    "\n",
    "   \n",
    "for i in range(len(ER_tag_names)):\n",
    "    index = np.where(ER_tag_names == sorted_ER[i])\n",
    "    sorted_tags[i] = tag_name_list[index]\n"
   ]
  },
  {
   "cell_type": "code",
   "execution_count": 68,
   "metadata": {},
   "outputs": [
    {
     "name": "stdout",
     "output_type": "stream",
     "text": [
      "[4 3 2 1]\n"
     ]
    }
   ],
   "source": [
    "a = np.array([1,2,3,4])\n",
    "b = a[::-1]\n",
    "print(b)"
   ]
  }
 ],
 "metadata": {
  "interpreter": {
   "hash": "d80f053a928aac97652572aba9b2a28da264fb23761de3bb2872517e77e8dfd3"
  },
  "kernelspec": {
   "display_name": "Python 3.8.8 ('base')",
   "language": "python",
   "name": "python3"
  },
  "language_info": {
   "codemirror_mode": {
    "name": "ipython",
    "version": 3
   },
   "file_extension": ".py",
   "mimetype": "text/x-python",
   "name": "python",
   "nbconvert_exporter": "python",
   "pygments_lexer": "ipython3",
   "version": "3.8.8"
  },
  "orig_nbformat": 4
 },
 "nbformat": 4,
 "nbformat_minor": 2
}
